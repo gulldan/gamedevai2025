{
 "cells": [
  {
   "cell_type": "code",
   "execution_count": null,
   "id": "6b55efc6-2fab-4077-9f65-cbc4577eed5b",
   "metadata": {},
   "outputs": [
    {
     "name": "stderr",
     "output_type": "stream",
     "text": [
      "2025-08-02 20:55:14,808 - hy3dgen.shapgen - INFO - Try to load model from local path: /root/.cache/hy3dgen/tencent/Hunyuan3D-2.1/hunyuan3d-dit-v2-1\n",
      "2025-08-02 20:55:14,815 - hy3dgen.shapgen - INFO - Loading model from /root/.cache/hy3dgen/tencent/Hunyuan3D-2.1/hunyuan3d-dit-v2-1/model.fp16.ckpt\n"
     ]
    },
    {
     "name": "stdout",
     "output_type": "stream",
     "text": [
      "using moe\n",
      "using moe\n",
      "using moe\n",
      "using moe\n",
      "using moe\n",
      "using moe\n",
      "PointCrossAttentionEncoder INFO: pc_sharpedge_size is zero\n"
     ]
    },
    {
     "data": {
      "application/vnd.jupyter.widget-view+json": {
       "model_id": "ddefb2d51d77462ea3162fed33ff67bf",
       "version_major": 2,
       "version_minor": 0
      },
      "text/plain": [
       "Loading pipeline components...:   0%|          | 0/7 [00:00<?, ?it/s]"
      ]
     },
     "metadata": {},
     "output_type": "display_data"
    }
   ],
   "source": [
    "import torch\n",
    "from diffusers import DiffusionPipeline\n",
    "from hy3dshape.pipelines import Hunyuan3DDiTFlowMatchingPipeline\n",
    "from PIL import Image, ImageOps\n",
    "import os\n",
    "import warnings\n",
    "\n",
    "warnings.filterwarnings(\"ignore\")\n",
    "\n",
    "\n",
    "device = torch.device(\"cuda\" if torch.cuda.is_available() else \"cpu\")\n",
    "\n",
    "shape_pipeline = Hunyuan3DDiTFlowMatchingPipeline.from_pretrained(\n",
    "    'tencent/Hunyuan3D-2.1',\n",
    "    torch_dtype=torch.float16\n",
    ")\n",
    "\n",
    "image_gen_pipeline = DiffusionPipeline.from_pretrained(\n",
    "    \"playgroundai/playground-v2.5-1024px-aesthetic\",\n",
    "    torch_dtype=torch.float16,\n",
    "    variant=\"fp16\",\n",
    ").to(\"cuda\")\n",
    "\n",
    "\n",
    "def resize_and_pad(image: Image.Image, target_size: tuple[int, int], fill_color: tuple[int, int, int] = (255, 255, 255)) -> Image.Image:\n",
    "    padded_image = Image.new(\"RGB\", target_size, fill_color)\n",
    "    \n",
    "    image.thumbnail(target_size, Image.Resampling.LANCZOS)\n",
    "    \n",
    "    paste_position = (\n",
    "        (target_size[0] - image.width) // 2,\n",
    "        (target_size[1] - image.height) // 2\n",
    "    )\n",
    "    \n",
    "    padded_image.paste(image, paste_position)\n",
    "    \n",
    "    return padded_image\n",
    "\n",
    "\n",
    "def generate_mesh_from_image(image_path: str, output_path: str):\n",
    "    if not os.path.exists(image_path):\n",
    "        print(f\"Ошибка: Файл изображения не найден: {image_path}\")\n",
    "        return\n",
    "\n",
    "    image = Image.open(image_path).convert(\"RGB\")\n",
    "    \n",
    "    processed_image = resize_and_pad(image, (512, 512))\n",
    "\n",
    "    os.makedirs(os.path.dirname(output_path), exist_ok=True)\n",
    "    \n",
    "    ref_image_path = os.path.splitext(output_path)[0] + '.png'\n",
    "    processed_image.save(ref_image_path)\n",
    "    print(f\"Референсное изображение сохранено: {ref_image_path}\")\n",
    "\n",
    "    generated_mesh = shape_pipeline(image=processed_image, show_progress_bar=False)[0]\n",
    "    generated_mesh.export(output_path)\n",
    "    \n",
    "    print(f\"Меш из изображения сохранен: {output_path}\")\n",
    "\n",
    "\n",
    "def generate_mesh_from_text(prompt: str, output_path: str):\n",
    "    image = image_gen_pipeline(prompt=prompt).images[0]\n",
    "    \n",
    "    processed_image = resize_and_pad(image, (512, 512))\n",
    "\n",
    "    os.makedirs(os.path.dirname(output_path), exist_ok=True)\n",
    "\n",
    "    ref_image_path = os.path.splitext(output_path)[0] + '.png'\n",
    "    processed_image.save(ref_image_path)\n",
    "    print(f\"Референсное изображение сохранено: {ref_image_path}\")\n",
    "\n",
    "    generated_mesh = shape_pipeline(image=processed_image, show_progress_bar=False)[0]\n",
    "    generated_mesh.export(output_path)\n",
    "    \n",
    "    print(f\"Меш из текста '{prompt}' сохранен: {output_path}\")\n"
   ]
  },
  {
   "cell_type": "code",
   "execution_count": 2,
   "id": "ff0926c1-36cc-4a0e-a3f7-212bc51fb9bd",
   "metadata": {},
   "outputs": [
    {
     "name": "stdout",
     "output_type": "stream",
     "text": [
      "Референсное изображение сохранено: ../output/rebecca_one_piece_bikini.png\n"
     ]
    },
    {
     "name": "stderr",
     "output_type": "stream",
     "text": [
      "Diffusion Sampling:: 100%|███████████████████████████████████| 50/50 [00:09<00:00,  5.35it/s]\n",
      "Volume Decoding: 100%|██████████████████████████████████| 7134/7134 [00:13<00:00, 513.18it/s]\n"
     ]
    },
    {
     "name": "stdout",
     "output_type": "stream",
     "text": [
      "Меш из изображения сохранен: ../output/rebecca_one_piece_bikini.glb\n"
     ]
    }
   ],
   "source": [
    "generate_mesh_from_image(\n",
    "    image_path='../assets/d98mtp939hpc1.jpeg',\n",
    "    output_path='../output/rebecca_one_piece_bikini.glb'\n",
    ")\n"
   ]
  },
  {
   "cell_type": "code",
   "execution_count": 8,
   "id": "b1de45f0-aef6-452e-87f0-8c1d81a27210",
   "metadata": {},
   "outputs": [
    {
     "data": {
      "application/vnd.jupyter.widget-view+json": {
       "model_id": "e6f718172d3b4a6394f010f604753929",
       "version_major": 2,
       "version_minor": 0
      },
      "text/plain": [
       "  0%|          | 0/50 [00:00<?, ?it/s]"
      ]
     },
     "metadata": {},
     "output_type": "display_data"
    },
    {
     "name": "stdout",
     "output_type": "stream",
     "text": [
      "Референсное изображение сохранено: ../output/sword.png\n"
     ]
    },
    {
     "name": "stderr",
     "output_type": "stream",
     "text": [
      "Diffusion Sampling:: 100%|███████████████████████████████████| 50/50 [00:08<00:00,  5.64it/s]\n",
      "Volume Decoding: 100%|██████████████████████████████████| 7134/7134 [00:13<00:00, 514.27it/s]\n"
     ]
    },
    {
     "name": "stdout",
     "output_type": "stream",
     "text": [
      "Меш из текста '(masterpiece, best quality, 8k), (one single sword:1.5), a single ornate fantasy sword, solo object, centered, full body shot of a sword, detailed weapon, game asset, ((isolated on a pure white background)), flat lighting, no shadows' сохранен: ../output/sword.glb\n"
     ]
    }
   ],
   "source": [
    "generate_mesh_from_text(\n",
    "    prompt=\"(masterpiece), (best quality), game asset, a single longsword, front view, orthographic, 3d model, 3d render, hyper detailed, clean, ((white background)), ((isolated on white)), professional, studio lighting, sharp focus\",\n",
    "    output_path='../output/sword.glb'\n",
    ")"
   ]
  }
 ],
 "metadata": {
  "kernelspec": {
   "display_name": "Python 3 (ipykernel)",
   "language": "python",
   "name": "python3"
  },
  "language_info": {
   "codemirror_mode": {
    "name": "ipython",
    "version": 3
   },
   "file_extension": ".py",
   "mimetype": "text/x-python",
   "name": "python",
   "nbconvert_exporter": "python",
   "pygments_lexer": "ipython3",
   "version": "3.10.18"
  }
 },
 "nbformat": 4,
 "nbformat_minor": 5
}
