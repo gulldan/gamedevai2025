{
 "cells": [
  {
   "cell_type": "code",
   "execution_count": null,
   "id": "7892f59c-3284-4e4c-9e32-f00cbe35dad1",
   "metadata": {},
   "outputs": [
    {
     "name": "stderr",
     "output_type": "stream",
     "text": [
      "2025-08-03 13:28:25,637 - hy3dgen.shapgen - INFO - Try to load model from local path: /root/.cache/hy3dgen/tencent/Hunyuan3D-2.1/hunyuan3d-dit-v2-1\n",
      "2025-08-03 13:28:25,643 - hy3dgen.shapgen - INFO - Loading model from /root/.cache/hy3dgen/tencent/Hunyuan3D-2.1/hunyuan3d-dit-v2-1/model.fp16.ckpt\n"
     ]
    },
    {
     "name": "stdout",
     "output_type": "stream",
     "text": [
      "Инициализация моделей...\n",
      "using moe\n",
      "using moe\n",
      "using moe\n",
      "using moe\n",
      "using moe\n",
      "using moe\n",
      "PointCrossAttentionEncoder INFO: pc_sharpedge_size is zero\n"
     ]
    },
    {
     "data": {
      "application/vnd.jupyter.widget-view+json": {
       "model_id": "b0ed93a1d49b4dad9d479b2d5cf76c50",
       "version_major": 2,
       "version_minor": 0
      },
      "text/plain": [
       "Loading pipeline components...:   0%|          | 0/7 [00:00<?, ?it/s]"
      ]
     },
     "metadata": {},
     "output_type": "display_data"
    },
    {
     "name": "stdout",
     "output_type": "stream",
     "text": [
      "Модели успешно инициализированы.\n"
     ]
    },
    {
     "data": {
      "application/vnd.jupyter.widget-view+json": {
       "model_id": "3baa5165d95a47efafcfd395d5a66d83",
       "version_major": 2,
       "version_minor": 0
      },
      "text/plain": [
       "  0%|          | 0/50 [00:00<?, ?it/s]"
      ]
     },
     "metadata": {},
     "output_type": "display_data"
    },
    {
     "name": "stderr",
     "output_type": "stream",
     "text": [
      "Diffusion Sampling:: 100%|█████████████████████████████████████████| 50/50 [00:08<00:00,  5.66it/s]\n",
      "Volume Decoding: 100%|████████████████████████████████████████| 7134/7134 [00:13<00:00, 517.31it/s]\n"
     ]
    },
    {
     "name": "stdout",
     "output_type": "stream",
     "text": [
      "Генерация для '../output/sword_imp_g' завершена.\n"
     ]
    }
   ],
   "source": [
    "import torch\n",
    "from diffusers import DiffusionPipeline\n",
    "from hy3dshape.pipelines import Hunyuan3DDiTFlowMatchingPipeline\n",
    "from PIL import Image, ImageOps\n",
    "from rembg import remove\n",
    "import os\n",
    "import warnings\n",
    "import trimesh\n",
    "import numpy as np\n",
    "\n",
    "warnings.filterwarnings(\"ignore\")\n",
    "\n",
    "\n",
    "print(\"Инициализация моделей...\")\n",
    "device = torch.device(\"cuda\" if torch.cuda.is_available() else \"cpu\")\n",
    "shape_pipeline = Hunyuan3DDiTFlowMatchingPipeline.from_pretrained(\n",
    "    'tencent/Hunyuan3D-2.1', torch_dtype=torch.float16\n",
    ")\n",
    "image_gen_pipeline = DiffusionPipeline.from_pretrained(\n",
    "    \"playgroundai/playground-v2.5-1024px-aesthetic\", torch_dtype=torch.float16, variant=\"fp16\"\n",
    ").to(device)\n",
    "print(\"Модели успешно инициализированы.\")\n",
    "\n",
    "\n",
    "def resize_and_pad(image: Image.Image, target_size: tuple[int, int], fill_color: tuple[int, int, int] = (255, 255, 255)) -> Image.Image:\n",
    "    padded_image = Image.new(\"RGB\", target_size, fill_color)\n",
    "    image.thumbnail(target_size, Image.Resampling.LANCZOS)\n",
    "    paste_position = ((target_size[0] - image.width) // 2, (target_size[1] - image.height) // 2)\n",
    "    padded_image.paste(image, paste_position)\n",
    "    return padded_image\n",
    "\n",
    "\n",
    "def clean_mesh_by_largest_component(input_path: str, output_path: str) -> bool:\n",
    "    try:\n",
    "        mesh = trimesh.load_mesh(input_path, force='mesh')\n",
    "        if not isinstance(mesh, trimesh.Trimesh): return False\n",
    "        components = mesh.split(only_watertight=False)\n",
    "        if len(components) <= 1:\n",
    "            mesh.export(output_path)\n",
    "            return True\n",
    "        largest_component = max(components, key=lambda c: len(c.faces))\n",
    "        largest_component.export(output_path)\n",
    "        return True\n",
    "    except Exception as e:\n",
    "        print(f\"Ошибка при очистке меша: {e}\")\n",
    "        return False\n",
    "\n",
    "\n",
    "def decimate_mesh(input_path: str, output_path: str, target_face_count: int) -> bool:\n",
    "    try:\n",
    "        mesh = trimesh.load_mesh(input_path, force='mesh')\n",
    "        if not isinstance(mesh, trimesh.Trimesh): return False\n",
    "        if len(mesh.faces) <= target_face_count:\n",
    "            mesh.export(output_path)\n",
    "            return True\n",
    "        new_mesh = mesh.simplify_quadric_decimation(face_count=target_face_count)\n",
    "        new_mesh.export(output_path)\n",
    "        return True\n",
    "    except Exception as e:\n",
    "        print(f\"Ошибка при упрощении меша: {e}\")\n",
    "        return False\n",
    "\n",
    "\n",
    "def process_generated_mesh(raw_path, output_prefix, low_poly_faces):\n",
    "    cleaned_path = f\"{output_prefix}_1_cleaned_high.obj\"\n",
    "    final_low_poly_path = f\"{output_prefix}_2_final_low.obj\"\n",
    "    if not clean_mesh_by_largest_component(raw_path, cleaned_path): return\n",
    "    if not decimate_mesh(cleaned_path, final_low_poly_path, target_face_count=low_poly_faces): return\n",
    "\n",
    "\n",
    "def generate_mesh_from_text(\n",
    "    prompt: str,\n",
    "    output_prefix: str,\n",
    "    low_poly_faces: int = 1500,\n",
    "    seed: int = 42,\n",
    "    num_inference_steps: int = 50,\n",
    "    guidance_scale: float = 3.5\n",
    "):\n",
    "    try:\n",
    "        output_dir = os.path.dirname(output_prefix)\n",
    "        if not os.path.exists(output_dir): os.makedirs(output_dir)\n",
    "        raw_path = f\"{output_prefix}_0_raw.obj\"\n",
    "\n",
    "        generator = torch.Generator(device=device).manual_seed(seed)\n",
    "        \n",
    "        image = image_gen_pipeline(\n",
    "            prompt=prompt,\n",
    "            num_inference_steps=num_inference_steps,\n",
    "            guidance_scale=guidance_scale,\n",
    "            generator=generator\n",
    "        ).images[0]\n",
    "\n",
    "        image_no_bg_rgba = remove(image)\n",
    "        white_background = Image.new(\"RGB\", image_no_bg_rgba.size, (255, 255, 255))\n",
    "        white_background.paste(image_no_bg_rgba, (0, 0), image_no_bg_rgba)\n",
    "        \n",
    "        image_on_white = white_background\n",
    "        image_on_white.save(f\"{output_prefix}_reference_image.png\")\n",
    "        \n",
    "        processed_image = resize_and_pad(image_on_white, (512, 512))\n",
    "        \n",
    "        generated_mesh = shape_pipeline(image=processed_image, show_progress_bar=True)[0]\n",
    "        generated_mesh.export(raw_path)\n",
    "        \n",
    "        process_generated_mesh(raw_path, output_prefix, low_poly_faces)\n",
    "\n",
    "    except Exception as e:\n",
    "        print(f\"Произошла глобальная ошибка: {e}\")\n",
    "    print(f\"Генерация для '{output_prefix}' завершена.\")\n",
    "\n",
    "\n",
    "def generate_mesh_from_image(image_path: str, output_prefix: str, low_poly_faces: int = 1500):\n",
    "    print(\"\\n\" + \"=\"*50)\n",
    "    print(f\"Начало генерации из изображения: {image_path}\")\n",
    "    if not os.path.exists(image_path):\n",
    "        print(f\"!!! Ошибка: Файл не найден {image_path}\")\n",
    "        return\n",
    "    try:\n",
    "        output_dir = os.path.dirname(output_prefix)\n",
    "        if not os.path.exists(output_dir): os.makedirs(output_dir)\n",
    "        raw_path = f\"{output_prefix}_0_raw.obj\"\n",
    "\n",
    "        print(\"Обработка референсного изображения...\")\n",
    "        image = Image.open(image_path).convert(\"RGB\")\n",
    "        processed_image = resize_and_pad(image, (512, 512))\n",
    "        \n",
    "        print(\"Генерация сырого 3D-меша...\")\n",
    "        generated_mesh = shape_pipeline(image=processed_image, show_progress_bar=True)[0]\n",
    "        generated_mesh.export(raw_path)\n",
    "        \n",
    "        process_generated_mesh(raw_path, output_prefix, low_poly_faces)\n",
    "\n",
    "    except Exception as e:\n",
    "        print(f\"!!! Произошла глобальная ошибка: {e}\")\n",
    "    print(\"Генерация завершена.\")\n",
    "    print(\"=\"*50 + \"\\n\")\n",
    "\n",
    "\n",
    "generate_mesh_from_text(\n",
    "    prompt=\"(masterpiece), (best quality), game asset, a single longsword, front view, orthographic, 3d model, 3d render, hyper detailed, clean, ((white background)), ((isolated on white)), professional, studio lighting, sharp focus\",\n",
    "    output_prefix=\"../output/sword_imp_g\",\n",
    "    low_poly_faces=1000\n",
    ")"
   ]
  },
  {
   "cell_type": "code",
   "execution_count": null,
   "id": "3c5dbc0f-9a7c-4261-bc4d-1cdd66b54825",
   "metadata": {},
   "outputs": [
    {
     "data": {
      "application/vnd.jupyter.widget-view+json": {
       "model_id": "234fcedea2644e91aaf902f0d80b1cd1",
       "version_major": 2,
       "version_minor": 0
      },
      "text/plain": [
       "  0%|          | 0/50 [00:00<?, ?it/s]"
      ]
     },
     "metadata": {},
     "output_type": "display_data"
    },
    {
     "name": "stderr",
     "output_type": "stream",
     "text": [
      "Diffusion Sampling:: 100%|█████████████████████████████████████████| 50/50 [00:08<00:00,  5.57it/s]\n",
      "Volume Decoding: 100%|████████████████████████████████████████| 7134/7134 [00:13<00:00, 512.02it/s]\n"
     ]
    },
    {
     "name": "stdout",
     "output_type": "stream",
     "text": [
      "Генерация для '../output/dragon' завершена.\n"
     ]
    }
   ],
   "source": [
    "generate_mesh_from_text(\n",
    "    prompt=\"photorealistic 3d model of a mechanical dragon, steampunk style, single object, centered, uniform pure white background, no shadow, studio lighting, product shot, 8k\",\n",
    "    output_prefix=\"../output/dragon\",\n",
    "    low_poly_faces=2000\n",
    ")"
   ]
  }
 ],
 "metadata": {
  "kernelspec": {
   "display_name": "Python 3 (ipykernel)",
   "language": "python",
   "name": "python3"
  },
  "language_info": {
   "codemirror_mode": {
    "name": "ipython",
    "version": 3
   },
   "file_extension": ".py",
   "mimetype": "text/x-python",
   "name": "python",
   "nbconvert_exporter": "python",
   "pygments_lexer": "ipython3",
   "version": "3.10.18"
  }
 },
 "nbformat": 4,
 "nbformat_minor": 5
}
